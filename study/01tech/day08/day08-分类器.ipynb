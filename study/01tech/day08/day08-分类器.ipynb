{
 "cells": [
  {
   "cell_type": "markdown",
   "metadata": {},
   "source": [
    "# 模型"
   ]
  },
  {
   "cell_type": "markdown",
   "metadata": {},
   "source": [
    "- 预测：\n",
    "    - $y = S(xW + b)$"
   ]
  },
  {
   "cell_type": "markdown",
   "metadata": {},
   "source": [
    "- 最好$W, b$就是是下面损失函数最小的$W, b$\n",
    "    - 损失函数：交叉熵函数"
   ]
  },
  {
   "cell_type": "markdown",
   "metadata": {},
   "source": [
    "# 实现"
   ]
  },
  {
   "cell_type": "markdown",
   "metadata": {},
   "source": [
    "1. 加载数据集\n",
    "\n",
    "2. 定义学习的w， b\n",
    "\n",
    "# 循环\n",
    "3. 计算预测值\n",
    "4. 使用交叉熵计算损失值\n",
    "5. 求导数\n",
    "6. 更新w，b\n"
   ]
  },
  {
   "cell_type": "code",
   "execution_count": null,
   "metadata": {},
   "outputs": [],
   "source": [
    "from sklearn.datasets import load_iris\n",
    "import numpy\n",
    "import torch\n",
    "\n",
    "# 加载数据集\n",
    "data, target = load_iris(return_X_y=True)\n",
    "\n",
    "# x = torch.from_numpy(data[0:100]).float()\n",
    "x = torch.Tensor(data[:100])   # FloatTensor = Tensor\n",
    "y = torch.Tensor(target[:100]).view(100, 1)\n",
    "# 定义学习参数\n",
    "w = torch.randn(1, 4)\n",
    "b = torch.randn(1)\n",
    "\n",
    "w.requires_grad= True\n",
    "b.requires_grad= True\n",
    "# 超参数\n",
    "epoch = 500000\n",
    "lr = 0.0001\n",
    "\n",
    "for n in range(epoch):\n",
    "    # 预测\n",
    "    # y_ = w @ x.T + b\n",
    "    y_ = torch.nn.functional.linear(x, weight=w, bias=b)\n",
    "    y_ = torch.sigmoid(y_)\n",
    "    # 计算损失\n",
    "    loss = torch.nn.functional.binary_cross_entropy(y_, y)\n",
    "    # 求导\n",
    "    loss.backward()\n",
    "    # 更新\n",
    "    with torch.no_grad():\n",
    "        w -= lr * w.grad\n",
    "        b -= lr * b.grad\n",
    "        # 清空导数\n",
    "        w.grad.zero_()\n",
    "        b.grad.zero_()\n",
    "        \n",
    "        y_[ y_ >  0.5] = 1\n",
    "        y_[ y_ <= 0.5] = 0\n",
    "        \n",
    "        corr_rate = (y == y_).float().mean()\n",
    "    if n % 100 ==0:\n",
    "        print(f\"损失值：{loss:8.6f}, 正确率：{corr_rate * 100: 8.2f}\")"
   ]
  },
  {
   "cell_type": "code",
   "execution_count": null,
   "metadata": {},
   "outputs": [],
   "source": []
  },
  {
   "cell_type": "code",
   "execution_count": null,
   "metadata": {},
   "outputs": [],
   "source": []
  },
  {
   "cell_type": "code",
   "execution_count": null,
   "metadata": {},
   "outputs": [],
   "source": []
  },
  {
   "cell_type": "code",
   "execution_count": null,
   "metadata": {},
   "outputs": [],
   "source": []
  },
  {
   "cell_type": "code",
   "execution_count": null,
   "metadata": {},
   "outputs": [],
   "source": []
  },
  {
   "cell_type": "code",
   "execution_count": null,
   "metadata": {},
   "outputs": [],
   "source": []
  },
  {
   "cell_type": "code",
   "execution_count": null,
   "metadata": {},
   "outputs": [],
   "source": []
  }
 ],
 "metadata": {
  "kernelspec": {
   "display_name": "Python 3",
   "language": "python",
   "name": "python3"
  },
  "language_info": {
   "codemirror_mode": {
    "name": "ipython",
    "version": 3
   },
   "file_extension": ".py",
   "mimetype": "text/x-python",
   "name": "python",
   "nbconvert_exporter": "python",
   "pygments_lexer": "ipython3",
   "version": "3.7.9"
  }
 },
 "nbformat": 4,
 "nbformat_minor": 4
}
