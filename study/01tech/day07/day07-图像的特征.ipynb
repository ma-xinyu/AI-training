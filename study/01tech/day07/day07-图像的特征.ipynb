{
 "cells": [
  {
   "cell_type": "markdown",
   "metadata": {},
   "source": [
    "# 1. 图像的特征"
   ]
  },
  {
   "cell_type": "code",
   "execution_count": 3,
   "metadata": {},
   "outputs": [
    {
     "name": "stdout",
     "output_type": "stream",
     "text": [
      "(720, 1280, 3)\n"
     ]
    }
   ],
   "source": [
    "import cv2\n",
    "\n",
    "img = cv2.imread(\"00016.png\")\n",
    "print(img.shape)"
   ]
  },
  {
   "cell_type": "markdown",
   "metadata": {},
   "source": [
    "## 1.1. 卷积"
   ]
  },
  {
   "cell_type": "markdown",
   "metadata": {},
   "source": [
    "- $$h(x) = \\int _{- \\infty} ^{\\infty} f(\\tau) g(x - \\tau) \\mathrm{d} \\tau$$"
   ]
  },
  {
   "cell_type": "markdown",
   "metadata": {},
   "source": [
    "- 离散化"
   ]
  },
  {
   "cell_type": "markdown",
   "metadata": {},
   "source": [
    "- $f(\\tau)$是一个图像\n",
    "    - $\\tau \\to (i, j)$是图像中像素的位置\n",
    "    - $f(i, j)$就是像素（三通道）\n",
    "    "
   ]
  },
  {
   "cell_type": "markdown",
   "metadata": {},
   "source": [
    "- 离散$(i, j)$：\n",
    "    - $f(i,j) \\quad (i,j) \\in [-1, 1]$\n",
    "    - $f(i,j)$是$3 \\times 3$矩阵"
   ]
  },
  {
   "cell_type": "markdown",
   "metadata": {},
   "source": [
    "- $x \\to (x, y)$"
   ]
  },
  {
   "cell_type": "markdown",
   "metadata": {},
   "source": [
    "- 积分就是求和\n",
    "    - $\\int \\to \\sum$"
   ]
  },
  {
   "cell_type": "markdown",
   "metadata": {},
   "source": [
    "- 离散的结果是：\n",
    "    - $$ h(x, y) = \\sum _{(i,j) \\in [-1, 1]} f(i, j) g(x-i, y-j) $$"
   ]
  },
  {
   "cell_type": "markdown",
   "metadata": {},
   "source": [
    "- filter2D\n",
    "    - `dst=cv.filter2D(src, ddepth, kernel[, dst[, anchor[, delta[, borderType]]]])`"
   ]
  },
  {
   "cell_type": "markdown",
   "metadata": {},
   "source": [
    "```python \n",
    "    dst = cv.filter2D(\n",
    "        src,    # 原图像：g(x,y)\n",
    "        ddepth,  # 输出的图像深度：通道，类型； -1表示深度相同\n",
    "        kernel,  # 模板：f(i,j):卷积核\n",
    "        dst,  #输出图像（不建议参数中返回）\n",
    "        anchor, # kernel与原图像的参照点\n",
    "        delta, # 偏移值，改变结果图像的灰度 \n",
    "        borderType # 越界的替代值\n",
    "    ) \n",
    "\n",
    "```"
   ]
  },
  {
   "cell_type": "code",
   "execution_count": 15,
   "metadata": {},
   "outputs": [
    {
     "data": {
      "text/plain": [
       "True"
      ]
     },
     "execution_count": 15,
     "metadata": {},
     "output_type": "execute_result"
    }
   ],
   "source": [
    "import cv2\n",
    "import numpy\n",
    "# 原图像\n",
    "src = cv2.imread(\"00016.png\")\n",
    "\n",
    "# kernel\n",
    "# kernel = numpy.array([\n",
    "#     [-1, -1, -1],\n",
    "#     [ 0,  0,  0],\n",
    "#     [ 1,  1,  1]\n",
    "# ])\n",
    "kernel = numpy.array([\n",
    "    [-1, -1, -1],\n",
    "    [-1,  8, -1],\n",
    "    [-1, -1, -1]\n",
    "])\n",
    "\n",
    "\n",
    "# 卷积运算\n",
    "dst = cv2.filter2D(src, -1, kernel, delta=0)\n",
    "\n",
    "cv2.imwrite(\"dd.png\", dst)"
   ]
  },
  {
   "cell_type": "markdown",
   "metadata": {},
   "source": [
    "![输出图像](dd.png)"
   ]
  },
  {
   "cell_type": "markdown",
   "metadata": {},
   "source": [
    "- 图像的导数 \n",
    "    - $ f ^{\\prime}(x) = \\lim \\limits _{\\epsilon \\to 0} \\dfrac{f(x + \\epsilon) - f(x - \\epsilon)}{2 \\epsilon}$"
   ]
  },
  {
   "cell_type": "markdown",
   "metadata": {},
   "source": [
    "- $\\epsilon = 1$"
   ]
  },
  {
   "cell_type": "markdown",
   "metadata": {},
   "source": [
    "- $f ^ {\\prime}(x, y) = \\dfrac{1}{2}(f(x+1, y) + 0f(x, y) - f(x-1, y) )$"
   ]
  },
  {
   "cell_type": "markdown",
   "metadata": {},
   "source": [
    "- $[f(x+1, y), f(x, y), f(x-1, y)] [1, 0,-1] $"
   ]
  },
  {
   "cell_type": "markdown",
   "metadata": {},
   "source": [
    "# 高斯核"
   ]
  },
  {
   "cell_type": "code",
   "execution_count": 10,
   "metadata": {},
   "outputs": [
    {
     "name": "stdout",
     "output_type": "stream",
     "text": [
      "[[0.27406862]\n",
      " [0.45186276]\n",
      " [0.27406862]]\n"
     ]
    }
   ],
   "source": [
    "import cv2\n",
    "\n",
    "kernel_gauss = cv2. getGaussianKernel(ksize=3, sigma=1)\n",
    "print(kernel_gauss)"
   ]
  },
  {
   "cell_type": "markdown",
   "metadata": {},
   "source": [
    "- 高斯kernel\n",
    "- Sobel核\n",
    "- Laplace核"
   ]
  },
  {
   "cell_type": "markdown",
   "metadata": {},
   "source": [
    "- $\\texttt{dst} = \\frac{\\partial^{xorder+yorder} \\texttt{src}}{\\partial x^{xorder} \\partial y^{yorder}}$"
   ]
  },
  {
   "cell_type": "markdown",
   "metadata": {},
   "source": []
  },
  {
   "cell_type": "markdown",
   "metadata": {},
   "source": []
  },
  {
   "cell_type": "markdown",
   "metadata": {},
   "source": []
  }
 ],
 "metadata": {
  "kernelspec": {
   "display_name": "Python 3",
   "language": "python",
   "name": "python3"
  },
  "language_info": {
   "codemirror_mode": {
    "name": "ipython",
    "version": 3
   },
   "file_extension": ".py",
   "mimetype": "text/x-python",
   "name": "python",
   "nbconvert_exporter": "python",
   "pygments_lexer": "ipython3",
   "version": "3.6.6"
  }
 },
 "nbformat": 4,
 "nbformat_minor": 4
}
